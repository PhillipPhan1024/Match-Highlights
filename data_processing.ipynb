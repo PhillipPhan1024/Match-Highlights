{
 "cells": [
  {
   "cell_type": "code",
   "execution_count": 1,
   "metadata": {},
   "outputs": [
    {
     "name": "stdout",
     "output_type": "stream",
     "text": [
      "   segment_index  start_time   end_time  \\\n",
      "0              0        0.00   3.000000   \n",
      "1              1        3.00   8.240000   \n",
      "2              2        8.24   9.680000   \n",
      "3              3        9.68  11.400000   \n",
      "4              4       11.40  17.879999   \n",
      "\n",
      "                                                text  \\\n",
      "0  The duel has already started, Barley handles t...   \n",
      "1  It must be said that they also faced each othe...   \n",
      "2                                   Chelsea won 1-3.   \n",
      "3                           The Barley came forward.   \n",
      "4  You have to remember that he got ahead in that...   \n",
      "\n",
      "                                                game  \n",
      "0  england_epl/2014-2015/2015-02-21 - 18-00 Chels...  \n",
      "1  england_epl/2014-2015/2015-02-21 - 18-00 Chels...  \n",
      "2  england_epl/2014-2015/2015-02-21 - 18-00 Chels...  \n",
      "3  england_epl/2014-2015/2015-02-21 - 18-00 Chels...  \n",
      "4  england_epl/2014-2015/2015-02-21 - 18-00 Chels...  \n"
     ]
    }
   ],
   "source": [
    "from datasets import load_dataset\n",
    "import pandas as pd\n",
    "\n",
    "ds = load_dataset(\"SoccerNet/SN-echoes\", \"whisper_v1\")\n",
    "\n",
    "en_dataset = pd.DataFrame(ds['en'])\n",
    "\n",
    "print(en_dataset.head())"
   ]
  },
  {
   "cell_type": "code",
   "execution_count": null,
   "metadata": {},
   "outputs": [],
   "source": []
  }
 ],
 "metadata": {
  "kernelspec": {
   "display_name": "Python 3",
   "language": "python",
   "name": "python3"
  },
  "language_info": {
   "codemirror_mode": {
    "name": "ipython",
    "version": 3
   },
   "file_extension": ".py",
   "mimetype": "text/x-python",
   "name": "python",
   "nbconvert_exporter": "python",
   "pygments_lexer": "ipython3",
   "version": "3.11.6"
  }
 },
 "nbformat": 4,
 "nbformat_minor": 2
}
